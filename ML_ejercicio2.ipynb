{
 "cells": [
  {
   "cell_type": "markdown",
   "metadata": {},
   "source": [
    "# CNN for collider data background identification - Step 1 - Dataset Preparation"
   ]
  },
  {
   "cell_type": "markdown",
   "metadata": {},
   "source": [
    "[![Open In Colab](https://colab.research.google.com/assets/colab-badge.svg)](https://colab.research.google.com/github/{user_name}/{repo_name}/blob/{branch_name}/path/to/notebook.ipynb)"
   ]
  },
  {
   "cell_type": "code",
   "execution_count": null,
   "metadata": {},
   "outputs": [],
   "source": [
    "# LIBRERÍAS REQUERIDAS\n",
    "import platform\n",
    "print('python: '+platform.python_version())\n",
    "import numpy as np\n",
    "print('numpy: '+np.__version__)\n",
    "import matplotlib\n",
    "print('matplotlib: '+matplotlib.__version__)\n",
    "import matplotlib.pyplot as plt\n",
    "import pandas as pd\n",
    "import sys"
   ]
  },
  {
   "cell_type": "markdown",
   "metadata": {},
   "source": [
    "## Inicialización: Preparando el dataset"
   ]
  },
  {
   "cell_type": "code",
   "execution_count": null,
   "metadata": {},
   "outputs": [],
   "source": [
    "##SI LOS DATOS SE TIENEN EN FORMATO CSV, CONVERTIRLOS A FORMATO H5\n",
    "## Cargar el archivo CSV a un \"DataFrame\"\n",
    "#df1 = pd.read_csv('data.csv')\n",
    "## Guardarlo en formato h5\n",
    "#df1.to_hdf('data.h5', key='my_data', mode='w')"
   ]
  },
  {
   "cell_type": "code",
   "execution_count": null,
   "metadata": {},
   "outputs": [],
   "source": [
    "# CARGANDO ARCHIVO EJEMPLO\n",
    "# Descargar de https://syncandshare.desy.de/index.php/s/llbX3zpLhazgPJ6/download\n",
    "hdf=pd.HDFStore('test.h5', mode='r')\n",
    "hdf.keys()"
   ]
  },
  {
   "cell_type": "code",
   "execution_count": null,
   "metadata": {},
   "outputs": [],
   "source": [
    "# OBTENIENDO LOS DATOS EN UN DATAFRAME\n",
    "df=hdf.get('/table')\n",
    "df=df.reset_index()\n",
    "df=df.drop(['index'],axis=1)\n",
    "df"
   ]
  },
  {
   "cell_type": "markdown",
   "metadata": {},
   "source": [
    "### Dividiendo entre conjunto de Entrenamiento y conjunto de Prueba"
   ]
  },
  {
   "cell_type": "code",
   "execution_count": null,
   "metadata": {},
   "outputs": [],
   "source": [
    "#Primeros 30 000 datos serán para entrenar\n",
    "dftrain=df.iloc[0:30000].reset_index()\n",
    "dftrain=dftrain.drop(['index'],axis=1)\n",
    "#Últimos 10 000 datos serán para probar la red\n",
    "dftest=df.iloc[30000:40000].reset_index()\n",
    "dftest=dftest.drop(['index'],axis=1)\n",
    "dfval=df.iloc[40000:50000].reset_index()\n",
    "dfval=dfval.drop(['index'],axis=1)\n",
    "dftrain.head()"
   ]
  },
  {
   "cell_type": "code",
   "execution_count": null,
   "metadata": {},
   "outputs": [],
   "source": [
    "# Las etiquetas que definen señal y background\n",
    "labeltr=dftrain\n",
    "labeltr=np.asarray(labeltr.loc[:,'is_signal_new'])\n",
    "labelte=dftest\n",
    "labelte=np.asarray(labelte.loc[:,'is_signal_new'])"
   ]
  },
  {
   "cell_type": "code",
   "execution_count": null,
   "metadata": {},
   "outputs": [],
   "source": [
    "#Guardando arreglos\n",
    "np.save('labeltr',labeltr)\n",
    "np.save('labelte',labelte)"
   ]
  },
  {
   "cell_type": "markdown",
   "metadata": {},
   "source": [
    "### Obteniendo número de eventos background y señal"
   ]
  },
  {
   "cell_type": "code",
   "execution_count": null,
   "metadata": {},
   "outputs": [],
   "source": [
    "# GRAFICANDO DISTRIBUCIÓN DE SEÑAL Y BACKGROUND EN HISTOGRAMA\n",
    "# PARA CONJUNTO DE ENTRENAMIENTO\n",
    "\n",
    "print('Train set', dftrain.groupby('is_signal_new').size())\n",
    "\n",
    "clases = pd.Series(dftrain['is_signal_new']).value_counts()\n",
    "clases.plot(kind = 'bar', rot=0)\n",
    "plt.xticks(range(3))\n",
    "plt.title(\"Signal (1) and background (0) jet frequencies in the training set\")\n",
    "plt.xlabel(\"Output\")\n",
    "plt.ylabel(\"Number of jets\")"
   ]
  },
  {
   "cell_type": "code",
   "execution_count": null,
   "metadata": {},
   "outputs": [],
   "source": [
    "# GRAFICANDO DISTRIBUCIÓN DE SEÑAL Y BACKGROUND EN HISTOGRAMA\n",
    "# PARA CONJUNTO DE PRUEBA\n",
    "\n",
    "print('Test set', dftest.groupby('is_signal_new').size())\n",
    "clases1 = pd.Series(dftest['is_signal_new']).value_counts()\n",
    "clases1.plot(kind = 'bar', rot=0)\n",
    "plt.xticks(range(3))\n",
    "plt.title(\"Signal (1) and background (0) jet frequencies in the test set\")\n",
    "plt.xlabel(\"Output\")\n",
    "plt.ylabel(\"Number of jets\")"
   ]
  },
  {
   "cell_type": "markdown",
   "metadata": {},
   "source": [
    "## Visualizando deposición de energía de alguno de los jets"
   ]
  },
  {
   "cell_type": "markdown",
   "metadata": {},
   "source": [
    "A continuación calcularemos la energía depositada por uno de los jets en el sample"
   ]
  },
  {
   "cell_type": "code",
   "execution_count": null,
   "metadata": {},
   "outputs": [],
   "source": [
    "aa=27681  # id del jet\n",
    "E_aa=[]\n",
    "px_aa=[]\n",
    "py_aa=[]\n",
    "pz_aa=[]\n",
    "for i in range(100):\n",
    "    E_aa.append(dftrain.iloc[aa][i*4])\n",
    "    px_aa.append(dftrain.iloc[aa][i*4+1])\n",
    "    py_aa.append(dftrain.iloc[aa][i*4+2])\n",
    "    pz_aa.append(dftrain.iloc[aa][i*4+3])"
   ]
  },
  {
   "cell_type": "code",
   "execution_count": null,
   "metadata": {},
   "outputs": [],
   "source": [
    "# GRAFICANDO\n",
    "\n",
    "plt.rc('font', size=16) \n",
    "plt.rc('axes', labelsize=16)  \n",
    "plt.rc('ytick', labelsize=12)\n",
    "\n",
    "fig = plt.figure(figsize=(8,8))\n",
    "\n",
    "ax = fig.add_subplot(111, projection='3d')\n",
    "\n",
    "scat_plot =ax.scatter(px_aa,py_aa,pz_aa,c=E_aa,cmap='nipy_spectral',norm=matplotlib.colors.LogNorm(vmin=1, vmax=100, clip=False))\n",
    "\n",
    "ax.set_title(\"Jet 27681 energy depositions\")\n",
    "\n",
    "ax.set_xlabel(\"$p_{x}$\")\n",
    "\n",
    "ax.set_ylabel(\"$p_{y}$\")\n",
    "\n",
    "ax.set_zlabel(\"$p_{z}$\")\n",
    "\n",
    "cb = plt.colorbar(scat_plot, pad=-1)\n",
    "\n",
    "cb.set_label('Energy (GeV)')\n",
    "\n",
    "plt.show()"
   ]
  },
  {
   "cell_type": "markdown",
   "metadata": {},
   "source": [
    "## Calculando (E, /eta, /phi)"
   ]
  },
  {
   "cell_type": "markdown",
   "metadata": {},
   "source": [
    "A continuación calculamos el momento total, la eta y la phi, y guardaremos el vector (E, eta, phi) en un arreglo. Acomodaremos los vectores en un arreglo de 40x40 pixeles. Elegiremos guardar el resultado para los jets con id: 8007, 8192, 20983, 27681.\n",
    "\n",
    "Recordar que:\n",
    "\n",
    "![Phi](phi_eq.png)\n",
    "\n",
    "![Theta](theta_eq.png)\n",
    "\n",
    "![Eta](eta_eq.png)"
   ]
  },
  {
   "cell_type": "code",
   "execution_count": null,
   "metadata": {},
   "outputs": [],
   "source": [
    "# PARA SET DE ENTRENAMIENTO\n",
    "n_idx=0\n",
    "n_max=0\n",
    "phi_max=0\n",
    "w=0\n",
    "A=[]\n",
    "A_max=[]\n",
    "n_8007=[]\n",
    "n_20983=[]\n",
    "phi_8007=[]\n",
    "phi_20983=[]\n",
    "E_8007=[]\n",
    "E_20983=[]\n",
    "n_27681=[]\n",
    "phi_27681=[]\n",
    "E_27681=[]\n",
    "n_8192=[]\n",
    "phi_8192=[]\n",
    "E_8192=[]\n",
    "for j in range(30000):\n",
    "    E_max=0\n",
    "    n=np.zeros(shape=100)\n",
    "    phi=np.zeros(shape=100)\n",
    "    En=np.zeros(shape=100)\n",
    "   # if (j>5000):\n",
    "    #    j=j+202000\n",
    "        \n",
    "    for i in range(100):\n",
    "        df1 = dftrain.iloc[j:j+1,[0+4*i,1+4*i,2+4*i,3+4*i]]\n",
    "        #print(df1)\n",
    "        Px=df1.iloc[0][1]\n",
    "        Py=df1.iloc[0][2]\n",
    "        Pz=df1.iloc[0][3]\n",
    "        E=df1.iloc[0][0]\n",
    "        P=np.sqrt(Px**2+Py**2+Pz**2)\n",
    "        if (P!=0):\n",
    "            theta=np.arccos(Pz/P)\n",
    "            n[i]=-np.log(np.tan(theta/2))\n",
    "            if (n[i]<-2):\n",
    "                n[i]=-2\n",
    "            if (n[i]>2):\n",
    "                n[i]=2\n",
    "        else:\n",
    "            n[i]=np.nan\n",
    "        if (Px!=0):\n",
    "            phi[i]=np.arctan(Py/Px)\n",
    "        else:\n",
    "            phi[i]=np.nan\n",
    "        \n",
    "        if (E!=0):\n",
    "            En[i]=E\n",
    "        else:\n",
    "            En[i]=np.nan\n",
    "        \n",
    "        if (E>E_max):\n",
    "            E_max=E\n",
    "            n_idx=i\n",
    "            \n",
    "        if (abs(n[i])>n_max):\n",
    "            n_max=abs(n[i])\n",
    "        if (abs(phi[i]>phi_max)):\n",
    "            phi_max=abs(phi[i])\n",
    "\n",
    "        \n",
    "    n1=n+2\n",
    "    phi1=phi+(100*np.pi)/180 \n",
    "    n2=np.round(n1/.1)\n",
    "    phi2=np.round(phi1/(np.pi/36))\n",
    "    n3=n2+(20-n2[0])\n",
    "    phi3=phi2+(20-phi2[0])\n",
    "    En1=np.zeros(shape=1600).reshape(40,40)\n",
    "    En_max=np.zeros(shape=1600).reshape(40,40)\n",
    "    \n",
    "    for h in range(100):\n",
    "        if (np.isnan(En[h])==False):\n",
    "            g=int(phi2[h])\n",
    "            k=int(n2[h])\n",
    "            g1=int(phi3[h])\n",
    "            k1=int(n3[h])\n",
    "            if (g<40 and k<40):\n",
    "               # if (En1[g][k]<En[h]):\n",
    "                En1[g][k]=En1[g][k]+En[h]\n",
    "            if (g1<40 and k1<40):\n",
    "               # if (En1[g][k]<En[h]):\n",
    "                En_max[g1][k1]=En_max[g1][k1]+En[h]\n",
    "                \n",
    "    if (j==8007 or j==20983 or j==27681 or j==8192):\n",
    "        if (j==8007):\n",
    "            n_8007=n\n",
    "            phi_8007=phi\n",
    "            E_8007=En\n",
    "        elif (j==20983):\n",
    "            n_20983=n\n",
    "            phi_20983=phi\n",
    "            E_20983=En\n",
    "        elif (j==8192):\n",
    "            n_8192=n\n",
    "            phi_8192=phi\n",
    "            E_8192=En\n",
    "        elif (j==27681):\n",
    "            n_27681=n\n",
    "            phi_27681=phi\n",
    "            E_27681=En\n",
    "            \n",
    "    A.append(En1)\n",
    "    A_max.append(En_max)\n",
    "Arr_max=np.asarray(A_max)\n",
    "Arr=np.asarray(A)\n",
    "Arr.shape"
   ]
  },
  {
   "cell_type": "code",
   "execution_count": null,
   "metadata": {},
   "outputs": [],
   "source": [
    "# GUARDANDO ARREGLO\n",
    "np.save('Datatrain',Arr)"
   ]
  },
  {
   "cell_type": "code",
   "execution_count": null,
   "metadata": {},
   "outputs": [],
   "source": [
    "# PARA SET DE PRUEBA\n",
    "B=[]\n",
    "for j in range(10000):\n",
    "    n=np.zeros(shape=100)\n",
    "    phi=np.zeros(shape=100)\n",
    "    En=np.zeros(shape=100)\n",
    "   # if (j>5000):\n",
    "    #    j=j+202000\n",
    "        \n",
    "    for i in range(100):\n",
    "        df1 = dftest.iloc[j:j+1,[0+4*i,1+4*i,2+4*i,3+4*i]]\n",
    "        #print(df1)\n",
    "        Px=df1.iloc[0][1]\n",
    "        Py=df1.iloc[0][2]\n",
    "        Pz=df1.iloc[0][3]\n",
    "        E=df1.iloc[0][0]\n",
    "        P=np.sqrt(Px**2+Py**2+Pz**2)\n",
    "        if (P!=0):\n",
    "            theta=np.arccos(Pz/P)\n",
    "            n[i]=-np.log(np.tan(theta/2))\n",
    "            if (n[i]<-2):\n",
    "                n[i]=-2\n",
    "            if (n[i]>2):\n",
    "                n[i]=2\n",
    "        else:\n",
    "            n[i]=np.nan\n",
    "        if (Px!=0):\n",
    "            phi[i]=np.arctan(Py/Px)\n",
    "        else:\n",
    "            phi[i]=np.nan\n",
    "        if (E!=0):\n",
    "            En[i]=E\n",
    "        else:\n",
    "            En[i]=np.nan\n",
    "    n1=n+2\n",
    "    phi1=phi+(100*np.pi)/180\n",
    "    #Fitting each couple n-phi into one of our 200x200 pixels \n",
    "    n2=np.round(n1/.1)\n",
    "    phi2=np.round(phi1/(np.pi/36))\n",
    "    En1=np.zeros(shape=1600).reshape(40,40)\n",
    "    \n",
    "    for h in range(100):\n",
    "        if (np.isnan(En[h])==False):\n",
    "            g=int(phi2[h])\n",
    "            k=int(n2[h])\n",
    "            if (g<40 and k<40):\n",
    "                En1[g][k]=En1[g][k]+En[h]\n",
    "    \n",
    "    B.append(En1)\n",
    "Arrtest=np.asarray(B)\n",
    "Arrtest.shape"
   ]
  },
  {
   "cell_type": "code",
   "execution_count": null,
   "metadata": {},
   "outputs": [],
   "source": [
    "# GUARDANDO ARREGLO\n",
    "np.save('Datatest',Arrtest)"
   ]
  },
  {
   "cell_type": "markdown",
   "metadata": {},
   "source": [
    "## Graficando eta-phi para alguno de los jets seleccionados"
   ]
  },
  {
   "cell_type": "code",
   "execution_count": null,
   "metadata": {},
   "outputs": [],
   "source": [
    "fig = plt.figure(figsize=(6,5))\n",
    "\n",
    "ax = fig.add_subplot(111)\n",
    "\n",
    "scat_plot =ax.scatter(n_8007,phi_8007,c=E_8007,cmap='nipy_spectral',norm=matplotlib.colors.LogNorm(vmin=1, vmax=100, clip=False))\n",
    "\n",
    "ax.set_title(\"Jet 8007 energy depositions\")\n",
    "\n",
    "ax.set_xlabel(\"$\\eta$\")\n",
    "\n",
    "ax.set_ylabel(\"$\\phi$\")\n",
    "\n",
    "\n",
    "cb = plt.colorbar(scat_plot)\n",
    "\n",
    "#cb.set_label('Energy (GeV)')\n",
    "\n",
    "\n",
    "plt.show()"
   ]
  },
  {
   "cell_type": "markdown",
   "metadata": {},
   "source": [
    "## Graficando la deposición de energía en 40x40 pixeles"
   ]
  },
  {
   "cell_type": "code",
   "execution_count": null,
   "metadata": {},
   "outputs": [],
   "source": [
    "x = np.linspace(0,40,40)\n",
    "y = np.linspace(0,40,40)\n",
    "nv, phiv = np.meshgrid(x, y)\n",
    "\n",
    "id_jet= 5098  # Elegir el jet\n",
    "\n",
    "Enplot=Arr[id_jet]\n",
    "\n",
    "#Enplot[np.where(Enplot==0)] = np.nan\n",
    "        \n",
    "plt.figure(figsize=(6,5))\n",
    "plot=plt.pcolor(x,y,Enplot, cmap='jet',norm=matplotlib.colors.LogNorm(vmin=1, vmax=100, clip=False))\n",
    "\n",
    "cbar = plt.colorbar()\n",
    "\n",
    "plt.xlabel('$\\eta$')\n",
    "plt.ylabel('$\\phi$')\n",
    "plt.title(\"Jet \"+str(id_jet)+\" (background)\")\n",
    "cbar.set_label('Energy (GeV)')\n",
    "print(dftrain.iloc[id_jet][805])"
   ]
  },
  {
   "cell_type": "markdown",
   "metadata": {},
   "source": [
    "## Promediando background y señal"
   ]
  },
  {
   "cell_type": "code",
   "execution_count": null,
   "metadata": {},
   "outputs": [],
   "source": [
    "backgrounds=np.zeros(shape=1600).reshape(40,40)\n",
    "signals=np.zeros(shape=1600).reshape(40,40)\n",
    "ba=0\n",
    "si=0\n",
    "for i in range(30000):\n",
    "    if (dftrain.iloc[i][805]==0):\n",
    "        backgrounds=backgrounds+Arr_max[i]\n",
    "        ba=ba+1\n",
    "    elif (dftrain.iloc[i][805]==1):\n",
    "        signals=signals+Arr_max[i]\n",
    "        si=si+1\n",
    "backgrounds=backgrounds/ba\n",
    "signals=signals/si"
   ]
  },
  {
   "cell_type": "markdown",
   "metadata": {},
   "source": [
    "## Graficando señal promediada"
   ]
  },
  {
   "cell_type": "code",
   "execution_count": null,
   "metadata": {},
   "outputs": [],
   "source": [
    "x = np.linspace(0,40,40)\n",
    "y = np.linspace(0,40,40)\n",
    "nv, phiv = np.meshgrid(x, y)\n",
    "\n",
    "\n",
    "#Enplot[np.where(Enplot==0)] = np.nan\n",
    "        \n",
    "plt.figure(figsize=(6,5))\n",
    "plot=plt.pcolor(x,y,signals, cmap='jet',norm=matplotlib.colors.LogNorm(vmin=1, vmax=100, clip=False))\n",
    "\n",
    "cbar = plt.colorbar()\n",
    "\n",
    "plt.xlabel('$\\eta$')\n",
    "plt.ylabel('$\\phi$')\n",
    "plt.title(\"Averaged signals\")\n",
    "cbar.set_label('Energy (GeV)')"
   ]
  },
  {
   "cell_type": "markdown",
   "metadata": {},
   "source": [
    "## Graficando background promediado"
   ]
  },
  {
   "cell_type": "code",
   "execution_count": null,
   "metadata": {},
   "outputs": [],
   "source": [
    "x = np.linspace(0,40,40)\n",
    "y = np.linspace(0,40,40)\n",
    "nv, phiv = np.meshgrid(x, y)\n",
    "\n",
    "\n",
    "#Enplot[np.where(Enplot==0)] = np.nan\n",
    "        \n",
    "plt.figure(figsize=(6,5))\n",
    "plot=plt.pcolor(x,y,backgrounds, cmap='jet',norm=matplotlib.colors.LogNorm(vmin=1, vmax=100, clip=False))\n",
    "\n",
    "cbar = plt.colorbar()\n",
    "\n",
    "plt.xlabel('$\\eta$')\n",
    "plt.ylabel('$\\phi$')\n",
    "plt.title(\"Averaged backgrounds\")\n",
    "cbar.set_label('Energy (GeV)')"
   ]
  }
 ],
 "metadata": {
  "language_info": {
   "name": "python"
  }
 },
 "nbformat": 4,
 "nbformat_minor": 2
}
